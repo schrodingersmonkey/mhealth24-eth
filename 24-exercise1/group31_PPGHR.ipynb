{
 "metadata": {
  "kernelspec": {
   "language": "python",
   "display_name": "Python 3",
   "name": "python3"
  },
  "language_info": {
   "name": "python",
   "version": "3.10.13",
   "mimetype": "text/x-python",
   "codemirror_mode": {
    "name": "ipython",
    "version": 3
   },
   "pygments_lexer": "ipython3",
   "nbconvert_exporter": "python",
   "file_extension": ".py"
  },
  "kaggle": {
   "accelerator": "none",
   "dataSources": [
    {
     "sourceId": 71361,
     "databundleVersionId": 7813402,
     "sourceType": "competition"
    }
   ],
   "dockerImageVersionId": 30646,
   "isInternetEnabled": true,
   "language": "python",
   "sourceType": "notebook",
   "isGpuEnabled": false
  }
 },
 "nbformat_minor": 4,
 "nbformat": 4,
 "cells": [
  {
   "cell_type": "code",
   "outputs": [],
   "source": [
    "# Instructions for submission\n",
    "\n",
    "# 1. Rename this file to groupXX_PPGHR.ipynb where XX is your group number as visible in the Google spreadsheet\n",
    "# 2. State the team members (e-mail, legi):\n",
    "# example@student.ethz.ch, XX-YYY-ZZZ\n",
    "# TO BE FILLED\n",
    "# TO BE FILLED\n",
    "# 3. Kaggle team name: TO BE FILLED\n",
    "# 4. Upload this file in a zipped folder together with your final predictions to the provided Polybox link. See the Submission section in the PDF for more details."
   ],
   "metadata": {
    "collapsed": false,
    "pycharm": {
     "name": "#%%\n"
    }
   },
   "execution_count": 0
  },
  {
   "cell_type": "code",
   "execution_count": null,
   "outputs": [],
   "source": [
    "# Import necessary libraries\n",
    "import matplotlib.dates as mdates\n",
    "import matplotlib.pyplot as plt\n",
    "import numpy as np\n",
    "import pandas as pd"
   ],
   "metadata": {
    "collapsed": false,
    "pycharm": {
     "name": "#%%\n"
    }
   }
  },
  {
   "cell_type": "code",
   "execution_count": null,
   "outputs": [],
   "source": [
    "sampling_rate = 128  # Hz\n",
    "\n",
    "# Load data item containing the PPG, HR, and IMU signals from all phases\n",
    "data = np.load('/kaggle/input/24-exercise1/mhealth24_data_public.npy', allow_pickle=True).item() # now it is a dict\n",
    "\n",
    "print('Keys for data:', data.keys())\n",
    "\n",
    "# Example to extract the data from phase 0\n",
    "phase0_data = data['phase 0']\n",
    "print('Keys for phase 0:', phase0_data.keys())\n",
    "\n",
    "# Get the individual signals from phase 0\n",
    "ppg_phase0 = phase0_data['PPG wrist']\n",
    "ref_hr_phase0 = phase0_data['ground truth HR']  # only available for phase 0, 2, and 4 (training data)\n",
    "IMU_X_phase0 = phase0_data['IMU X wrist']\n",
    "IMU_Y_phase0 = phase0_data['IMU Y wrist']\n",
    "IMU_Z_phase0 = phase0_data['IMU Z wrist']"
   ],
   "metadata": {
    "collapsed": false,
    "pycharm": {
     "name": "#%%\n"
    }
   }
  },
  {
   "cell_type": "code",
   "source": [
    "# Function to plot any signal with time on the x-axis\n",
    "def plot_signal(signal, title, ylabel, sampling_rate=128):\n",
    "    x = np.linspace(0, len(signal) / sampling_rate, len(signal))\n",
    "    t = pd.to_datetime(x, unit='s')\n",
    "\n",
    "    fig, ax = plt.subplots()\n",
    "    ax.plot(t, signal)\n",
    "    ax.set_title(title)\n",
    "    ax.set_xlabel('Time [min:sec]')\n",
    "    ax.set_ylabel(ylabel)\n",
    "    ax.xaxis.set_major_formatter(mdates.DateFormatter('%M:%S'))\n",
    "    plt.show()\n",
    "\n",
    "# If you want to be able to interactively look at your plotted data (e.g., zooming in or out),\n",
    "# uncomment the line with \"%matplotlib widget\" below\n",
    "# Careful: This does not work on Kaggle, but requires that you run the Jupyter Notebook locally on your computer\n",
    "# If you have an interactive plot and you want to go back to the non-interactive plot, comment the line with \n",
    "# \"%matplotlib widget\" out and restart your kernel\n",
    "# If you accidently run this script on Kaggle when \"%matplotlib widget\" is not commented out and you receive an error afterwards that your plot cannot be plotted, comment \"%matplotlib widget\" out and restart the kernel via \"Run << Factory reset\"\n",
    "\n",
    "# %matplotlib widget\n",
    "\n",
    "# Example plot of a 10-second window of the PPG signal\n",
    "plot_window_start = 0  # in seconds\n",
    "plot_window_end = 10  # in seconds\n",
    "plot_signal(ppg_phase0[plot_window_start*sampling_rate:plot_window_end*sampling_rate], 'PPG wrist', 'Amplitude')"
   ],
   "metadata": {
    "execution": {
     "iopub.status.busy": "2024-02-27T16:41:39.118082Z",
     "iopub.execute_input": "2024-02-27T16:41:39.118559Z",
     "iopub.status.idle": "2024-02-27T16:41:39.410371Z",
     "shell.execute_reply.started": "2024-02-27T16:41:39.118529Z",
     "shell.execute_reply": "2024-02-27T16:41:39.409061Z"
    },
    "trusted": true,
    "pycharm": {
     "name": "#%%\n",
     "is_executing": true
    }
   },
   "execution_count": null,
   "outputs": []
  },
  {
   "cell_type": "code",
   "source": [
    "# Function to print the mean and median absolute error between your predicted HR and the reference HR\n",
    "# With this function, you can evaluate the resulting score that you would obtain on the public dataset\n",
    "# with your predicted HR values on Kaggle\n",
    "def print_score(pred_hr, ref_hr):\n",
    "    err = np.abs(np.asarray(pred_hr) - np.asarray(ref_hr))\n",
    "    print(\"Mean error: {:4.3f}, Median error {:4.3f}\".format(np.mean(err), np.median(err)))\n",
    "    print(\"Resulting score {:4.3f}\".format(0.5 * np.mean(err) + 0.5 * np.median(err)))\n",
    "\n",
    "# Example on how to use the print_score function with randomly generated HR values as the predictions\n",
    "pred_hr_phase0 = list(np.random.randint(40, 180, len(ref_hr_phase0)))\n",
    "print_score(pred_hr_phase0, ref_hr_phase0)"
   ],
   "metadata": {
    "execution": {
     "iopub.status.busy": "2024-02-27T16:43:33.476869Z",
     "iopub.execute_input": "2024-02-27T16:43:33.477338Z",
     "iopub.status.idle": "2024-02-27T16:43:33.486836Z",
     "shell.execute_reply.started": "2024-02-27T16:43:33.477304Z",
     "shell.execute_reply": "2024-02-27T16:43:33.485998Z"
    },
    "trusted": true,
    "pycharm": {
     "name": "#%%\n",
     "is_executing": true
    }
   },
   "execution_count": null,
   "outputs": []
  },
  {
   "cell_type": "code",
   "source": [
    "# For each phase, you should now have obtained a list of predicted HR values\n",
    "# Below, we give an example of how you can produce the submission.csv file from your predicted HR values\n",
    "# To demonstrate the format of the submission.csv file, we provide an example with randomly generated HR values\n",
    "# For phase 0, 1, 2, and 3 you should each obtain 396 HR values\n",
    "# For phase 4 and 5 you should each obtain 57 HR values\n",
    "# IMPORTANT: You have to replace the following predicted HR values with your predicted HR values!\n",
    "pred_hr_phase0 = list(np.random.randint(40, 180, 396))\n",
    "pred_hr_phase1 = list(np.random.randint(40, 180, 396))\n",
    "pred_hr_phase2 = list(np.random.randint(40, 180, 396))\n",
    "pred_hr_phase3 = list(np.random.randint(40, 180, 396))\n",
    "pred_hr_phase4 = list(np.random.randint(40, 180, 57))\n",
    "pred_hr_phase5 = list(np.random.randint(40, 180, 57))\n",
    "\n",
    "# You can keep the below code unchanged to produce the submission.csv file\n",
    "pred_hr_phases = [pred_hr_phase0, pred_hr_phase1, pred_hr_phase2,\n",
    "                  pred_hr_phase3, pred_hr_phase4, pred_hr_phase5]\n",
    "ids = []\n",
    "pred_hr_flattened = []\n",
    "\n",
    "for phase_counter in range(len(pred_hr_phases)):\n",
    "    for hr_counter in range(len(pred_hr_phases[phase_counter])):\n",
    "        pred_hr_flattened.append(pred_hr_phases[phase_counter][hr_counter])\n",
    "        ids.append(f'phase{phase_counter}_{hr_counter}')\n",
    "\n",
    "# If you use Kaggle, on the right side in tab \"Output\", you should now see a file called \"submission.csv\" after pressing \"refresh\"\n",
    "# Download the file and submit it to the competition on Kaggle to obtain a score on the leaderboard for your team\n",
    "df = pd.DataFrame({'Id': ids, 'Predicted': pred_hr_flattened})\n",
    "df.to_csv('/kaggle/working/submission.csv', index=False)"
   ],
   "metadata": {
    "execution": {
     "iopub.status.busy": "2024-02-27T16:44:07.531059Z",
     "iopub.execute_input": "2024-02-27T16:44:07.531442Z",
     "iopub.status.idle": "2024-02-27T16:44:07.556296Z",
     "shell.execute_reply.started": "2024-02-27T16:44:07.531404Z",
     "shell.execute_reply": "2024-02-27T16:44:07.554873Z"
    },
    "trusted": true,
    "pycharm": {
     "name": "#%%\n"
    }
   },
   "execution_count": 4,
   "outputs": []
  }
 ]
}